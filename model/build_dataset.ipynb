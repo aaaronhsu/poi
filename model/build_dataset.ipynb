{
 "cells": [
  {
   "cell_type": "code",
   "execution_count": 5,
   "metadata": {},
   "outputs": [],
   "source": [
    "import cv2\n",
    "import os\n",
    "\n",
    "def video_to_frames(video_name):\n",
    "\n",
    "    video_path = f'dataset/videos/{video_name}.mp4'\n",
    "    output_folder = f'dataset/frames/{video_name}/'\n",
    "\n",
    "    # Create the output folder if it doesn't exist\n",
    "    if not os.path.exists(output_folder):\n",
    "        os.makedirs(output_folder)\n",
    "\n",
    "    # Open the video \n",
    "    cap = cv2.VideoCapture(video_path)\n",
    "\n",
    "    # Check if the video was opened correctly\n",
    "    if not cap.isOpened():\n",
    "        print(\"Error: Could not open video.\")\n",
    "        return\n",
    "\n",
    "    count = 0\n",
    "    num_frames_exported = 0\n",
    "    while True:\n",
    "        # Read frame\n",
    "        ret, frame = cap.read()\n",
    "        count += 1\n",
    "\n",
    "        if count % 15 != 0:\n",
    "            continue\n",
    "        \n",
    "        # If frame was not read correctly, we break the loop\n",
    "        if not ret:\n",
    "            break\n",
    "        \n",
    "        # Naming the image file using the current count\n",
    "        output_file = os.path.join(output_folder, f'{video_name}_frame{num_frames_exported}.jpg')\n",
    "\n",
    "        # Save the image\n",
    "        cv2.imwrite(output_file, frame)\n",
    "        num_frames_exported += 1\n",
    "\n",
    "\n",
    "    # When everything is done, release the video capture and video write objects\n",
    "    cap.release()"
   ]
  },
  {
   "cell_type": "code",
   "execution_count": 6,
   "metadata": {},
   "outputs": [],
   "source": [
    "video_name = 'few'\n",
    "video_to_frames(video_name)"
   ]
  }
 ],
 "metadata": {
  "kernelspec": {
   "display_name": "poi",
   "language": "python",
   "name": "python3"
  },
  "language_info": {
   "codemirror_mode": {
    "name": "ipython",
    "version": 3
   },
   "file_extension": ".py",
   "mimetype": "text/x-python",
   "name": "python",
   "nbconvert_exporter": "python",
   "pygments_lexer": "ipython3",
   "version": "3.11.5"
  }
 },
 "nbformat": 4,
 "nbformat_minor": 2
}

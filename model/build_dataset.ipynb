{
 "cells": [
  {
   "cell_type": "code",
   "execution_count": 9,
   "metadata": {},
   "outputs": [],
   "source": [
    "import cv2\n",
    "import os\n",
    "\n",
    "def video_to_frames(video_name):\n",
    "\n",
    "    video_path = f'dataset/videos/{video_name}.mp4'\n",
    "    output_folder = f'dataset/frames/{video_name}/'\n",
    "\n",
    "    # Create the output folder if it doesn't exist\n",
    "    if not os.path.exists(output_folder):\n",
    "        os.makedirs(output_folder)\n",
    "\n",
    "    # Open the video \n",
    "    cap = cv2.VideoCapture(video_path)\n",
    "\n",
    "    # Check if the video was opened correctly\n",
    "    if not cap.isOpened():\n",
    "        print(\"Error: Could not open video.\")\n",
    "        return\n",
    "\n",
    "    count = 0\n",
    "    num_frames_exported = 0\n",
    "    while True:\n",
    "        # Read frame\n",
    "        ret, frame = cap.read()\n",
    "        count += 1\n",
    "\n",
    "        if count % 5 != 0:\n",
    "            continue\n",
    "        \n",
    "        # If frame was not read correctly, we break the loop\n",
    "        if not ret:\n",
    "            break\n",
    "        \n",
    "        # Naming the image file using the current count\n",
    "        output_file = os.path.join(output_folder, f'{video_name}_frame{num_frames_exported}.jpg')\n",
    "\n",
    "        # Save the image\n",
    "        cv2.imwrite(output_file, frame)\n",
    "        num_frames_exported += 1\n",
    "\n",
    "\n",
    "    # When everything is done, release the video capture and video write objects\n",
    "    cap.release()"
   ]
  },
  {
   "cell_type": "code",
   "execution_count": 11,
   "metadata": {},
   "outputs": [],
   "source": [
    "video_name = 'wu_antispin'\n",
    "video_to_frames(video_name)"
   ]
  },
  {
   "cell_type": "code",
   "execution_count": 16,
   "metadata": {},
   "outputs": [],
   "source": [
    "def swap_labels(directory_path):\n",
    "    for filename in os.listdir(directory_path):\n",
    "        if filename.endswith('.txt'):\n",
    "            with open(os.path.join(directory_path, filename), 'r') as file:\n",
    "                lines = file.readlines()\n",
    "            with open(os.path.join(directory_path, filename), 'w') as file:\n",
    "                for line in lines:\n",
    "                    line = line.split()\n",
    "                    line[0] = str(1 - int(line[0]))\n",
    "                    file.write(' '.join(line) + '\\n')\n",
    "\n",
    "swap_labels(f'dataset/few_wu/labels')"
   ]
  }
 ],
 "metadata": {
  "kernelspec": {
   "display_name": "poi",
   "language": "python",
   "name": "python3"
  },
  "language_info": {
   "codemirror_mode": {
    "name": "ipython",
    "version": 3
   },
   "file_extension": ".py",
   "mimetype": "text/x-python",
   "name": "python",
   "nbconvert_exporter": "python",
   "pygments_lexer": "ipython3",
   "version": "3.11.5"
  }
 },
 "nbformat": 4,
 "nbformat_minor": 2
}
